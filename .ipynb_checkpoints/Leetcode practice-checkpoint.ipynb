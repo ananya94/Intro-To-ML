{
 "cells": [
  {
   "cell_type": "code",
   "execution_count": null,
   "metadata": {
    "collapsed": true
   },
   "outputs": [],
   "source": [
    "a = []\n",
    "a.insert(0,12)\n",
    "a.append(6)\n",
    "a.append(5)\n"
   ]
  },
  {
   "cell_type": "code",
   "execution_count": null,
   "metadata": {
    "collapsed": false
   },
   "outputs": [],
   "source": [
    "t = tuple(a)\n",
    "print(t)"
   ]
  },
  {
   "cell_type": "code",
   "execution_count": null,
   "metadata": {
    "collapsed": false
   },
   "outputs": [],
   "source": [
    "if __name__ == '__main__':\n",
    "    N = int(input())\n",
    "    new = []\n",
    "    new.append(N)\n",
    "    print(new)\n",
    "\n",
    "    def insert(a,b):\n",
    "        new.insert(a,b)\n",
    "    def print(self):\n",
    "        print(int(new))    \n",
    "    def append(a):\n",
    "        new.append(a)\n",
    "    def sort():\n",
    "        new.sort()\n",
    "    def pop():\n",
    "        new.pop()\n",
    "    def remove(a):\n",
    "        new.remove(a)\n",
    "    def reverse():\n",
    "        new.reverse()\n",
    "new.insert(0,5)\n",
    "insert(1,10)\n",
    "insert(0,6)\n",
    "remove(6)\n",
    "append(9)\n",
    "append(1)\n",
    "sort()\n",
    "pop()\n",
    "reverse()\n",
    "print"
   ]
  },
  {
   "cell_type": "markdown",
   "metadata": {},
   "source": [
    "## LEETCODE PRACTICE ##"
   ]
  },
  {
   "cell_type": "markdown",
   "metadata": {},
   "source": [
    "## Two Sum ##"
   ]
  },
  {
   "cell_type": "code",
   "execution_count": null,
   "metadata": {
    "collapsed": false
   },
   "outputs": [],
   "source": [
    "class solution():\n",
    "    def twoSum(nums, target):\n",
    "        if len(nums) <= 1:\n",
    "            return False\n",
    "        lookup = {}\n",
    "        for i in range(len(nums)):\n",
    "            if nums[i] in lookup:\n",
    "                return (lookup[nums[i]],i)\n",
    "            else:\n",
    "                lookup[target - nums[i]] = i\n",
    "\n",
    "\n",
    "if __name__=='__main__':\n",
    "    print(solution.twoSum((2, 3, 4, 5), 9))"
   ]
  },
  {
   "cell_type": "markdown",
   "metadata": {},
   "source": [
    "##Adding 2 numbers##"
   ]
  },
  {
   "cell_type": "code",
   "execution_count": 6,
   "metadata": {
    "collapsed": false
   },
   "outputs": [
    {
     "ename": "AttributeError",
     "evalue": "'int' object has no attribute 'l1'",
     "output_type": "error",
     "traceback": [
      "\u001b[0;31m---------------------------------------------------------------------------\u001b[0m",
      "\u001b[0;31mAttributeError\u001b[0m                            Traceback (most recent call last)",
      "\u001b[0;32m<ipython-input-6-80a43bc4d83a>\u001b[0m in \u001b[0;36m<module>\u001b[0;34m()\u001b[0m\n\u001b[1;32m     31\u001b[0m         \u001b[1;32mreturn\u001b[0m \u001b[0mhead\u001b[0m\u001b[1;33m\u001b[0m\u001b[0m\n\u001b[1;32m     32\u001b[0m \u001b[1;33m\u001b[0m\u001b[0m\n\u001b[0;32m---> 33\u001b[0;31m \u001b[0mprint\u001b[0m\u001b[1;33m(\u001b[0m\u001b[0msolution\u001b[0m\u001b[1;33m.\u001b[0m\u001b[0madding\u001b[0m\u001b[1;33m(\u001b[0m\u001b[1;36m0\u001b[0m\u001b[1;33m,\u001b[0m\u001b[1;33m(\u001b[0m\u001b[1;33m[\u001b[0m\u001b[1;36m1\u001b[0m\u001b[1;33m,\u001b[0m\u001b[1;36m2\u001b[0m\u001b[1;33m,\u001b[0m\u001b[1;36m3\u001b[0m\u001b[1;33m]\u001b[0m\u001b[1;33m)\u001b[0m\u001b[1;33m,\u001b[0m\u001b[1;33m(\u001b[0m\u001b[1;33m[\u001b[0m\u001b[1;36m2\u001b[0m\u001b[1;33m,\u001b[0m\u001b[1;36m3\u001b[0m\u001b[1;33m,\u001b[0m\u001b[1;36m4\u001b[0m\u001b[1;33m]\u001b[0m\u001b[1;33m)\u001b[0m\u001b[1;33m)\u001b[0m\u001b[1;33m)\u001b[0m\u001b[1;33m\u001b[0m\u001b[0m\n\u001b[0m",
      "\u001b[0;32m<ipython-input-6-80a43bc4d83a>\u001b[0m in \u001b[0;36madding\u001b[0;34m(self, l1, l2)\u001b[0m\n\u001b[1;32m     12\u001b[0m             \u001b[1;32mreturn\u001b[0m \u001b[0ml2\u001b[0m\u001b[1;33m\u001b[0m\u001b[0m\n\u001b[1;32m     13\u001b[0m         \u001b[0mhead\u001b[0m \u001b[1;33m=\u001b[0m \u001b[0ml1\u001b[0m\u001b[1;33m\u001b[0m\u001b[0m\n\u001b[0;32m---> 14\u001b[0;31m         \u001b[0mcarry\u001b[0m \u001b[1;33m=\u001b[0m \u001b[1;33m(\u001b[0m\u001b[0mself\u001b[0m\u001b[1;33m.\u001b[0m\u001b[0ml1\u001b[0m\u001b[1;33m.\u001b[0m\u001b[0mval\u001b[0m\u001b[1;33m+\u001b[0m\u001b[0mself\u001b[0m\u001b[1;33m.\u001b[0m\u001b[0ml2\u001b[0m\u001b[1;33m.\u001b[0m\u001b[0mval\u001b[0m\u001b[1;33m)\u001b[0m\u001b[1;33m/\u001b[0m\u001b[1;36m10\u001b[0m\u001b[1;33m\u001b[0m\u001b[0m\n\u001b[0m\u001b[1;32m     15\u001b[0m         \u001b[0mself\u001b[0m\u001b[1;33m.\u001b[0m\u001b[0ml1\u001b[0m\u001b[1;33m.\u001b[0m\u001b[0mval\u001b[0m \u001b[1;33m=\u001b[0m \u001b[1;33m(\u001b[0m\u001b[0ml1\u001b[0m\u001b[1;33m.\u001b[0m\u001b[0mval\u001b[0m\u001b[1;33m+\u001b[0m\u001b[0ml2\u001b[0m\u001b[1;33m.\u001b[0m\u001b[0mval\u001b[0m\u001b[1;33m)\u001b[0m\u001b[1;33m%\u001b[0m\u001b[1;36m10\u001b[0m\u001b[1;33m\u001b[0m\u001b[0m\n\u001b[1;32m     16\u001b[0m         \u001b[0mcarry\u001b[0m \u001b[1;33m+=\u001b[0m \u001b[0ml1\u001b[0m\u001b[1;33m.\u001b[0m\u001b[0mnext\u001b[0m\u001b[1;33m.\u001b[0m\u001b[0mval\u001b[0m\u001b[1;33m\u001b[0m\u001b[0m\n",
      "\u001b[0;31mAttributeError\u001b[0m: 'int' object has no attribute 'l1'"
     ]
    }
   ],
   "source": [
    "# # defining the linked list\n",
    "class ListNode():\n",
    "    def __init__(self,x):\n",
    "        self.val = x\n",
    "        self.next = None\n",
    "        \n",
    "class solution():\n",
    "    def adding(self,l1,l2):\n",
    "        if l1 is None:\n",
    "            return l2\n",
    "        elif l2 is None:\n",
    "            return l2\n",
    "        head = l1\n",
    "        carry = (l1.val+l2.val)/10\n",
    "        self.l1.val = (l1.val+l2.val)%10\n",
    "        carry += l1.next.val\n",
    "        carry += l2.next.val\n",
    "        l1.next.val = carry % 10\n",
    "        carry = carry // 10\n",
    "        l1 = l1.next\n",
    "        l2 = l2.next\n",
    "        if l1.next is None:\n",
    "            l1.next = l2.next\n",
    "        while l1.next is not None:\n",
    "            carry += l1.next.val\n",
    "            l1.next.val = carry % 10\n",
    "            carry =  carry // 10\n",
    "            l1 = l1.next\n",
    "        if carry > 0:\n",
    "            l1.next = ListNode(carry)\n",
    "        return head\n",
    "    \n",
    "print(solution.adding(0,([1,2,3]),([2,3,4])))"
   ]
  }
 ],
 "metadata": {
  "kernelspec": {
   "display_name": "Python 3",
   "language": "python",
   "name": "python3"
  },
  "language_info": {
   "codemirror_mode": {
    "name": "ipython",
    "version": 3
   },
   "file_extension": ".py",
   "mimetype": "text/x-python",
   "name": "python",
   "nbconvert_exporter": "python",
   "pygments_lexer": "ipython3",
   "version": "3.6.0"
  }
 },
 "nbformat": 4,
 "nbformat_minor": 2
}
